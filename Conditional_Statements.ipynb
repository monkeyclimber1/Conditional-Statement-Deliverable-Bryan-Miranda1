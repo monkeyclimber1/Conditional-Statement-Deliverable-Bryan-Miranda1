{
  "nbformat": 4,
  "nbformat_minor": 0,
  "metadata": {
    "colab": {
      "provenance": [],
      "authorship_tag": "ABX9TyPBKDgv8htPQMEHR9LJXDzx",
      "include_colab_link": true
    },
    "kernelspec": {
      "name": "python3",
      "display_name": "Python 3"
    },
    "language_info": {
      "name": "python"
    }
  },
  "cells": [
    {
      "cell_type": "markdown",
      "metadata": {
        "id": "view-in-github",
        "colab_type": "text"
      },
      "source": [
        "<a href=\"https://colab.research.google.com/github/monkeyclimber1/Conditional-Statement-Deliverable-Bryan-Miranda1/blob/master/Conditional_Statements.ipynb\" target=\"_parent\"><img src=\"https://colab.research.google.com/assets/colab-badge.svg\" alt=\"Open In Colab\"/></a>"
      ]
    },
    {
      "cell_type": "code",
      "execution_count": null,
      "metadata": {
        "id": "5o6iAbxQhRL2"
      },
      "outputs": [],
      "source": [
        "using System;\n",
        "// Bryan Miranda\n",
        "// ISM 4300\n",
        "// Conditional Statement Deliverable\n",
        "namespace Conditional_Statement_Deliverable\n",
        "{\n",
        "\n",
        "    class Program\n",
        "    {\n",
        "        static void Main(string[] args)\n",
        "        {\n",
        "            Console.WriteLine(\"Type in an interger value\");\n",
        "            int grades = (1 - 100);\n",
        "            try // Beginning of try catch statement\n",
        "            {\n",
        "                string input = Console.ReadLine();\n",
        "                grades = int.Parse(input);\n",
        "\n",
        "                while (true)\n",
        "                {\n",
        "                    if (grades >= 90) // If ranges created for each of the following grades\n",
        "                    {\n",
        "                        Console.WriteLine(\"Your Grade is an A\");\n",
        "                        Console.WriteLine(\"Congratulations!\");\n",
        "                        Console.WriteLine(\"Press any key to exit the program\");\n",
        "                        Console.ReadKey(true);\n",
        "\n",
        "\n",
        "                    }\n",
        "                    else if (grades >= 80 && grades <= 89)\n",
        "                    {\n",
        "                        Console.WriteLine(\"Your Grade is a B\");\n",
        "                        Console.WriteLine(\"Congratulations\");\n",
        "                        Console.WriteLine(\"Press any key to exit the program\");\n",
        "                        Console.ReadKey(true);\n",
        "\n",
        "                    }\n",
        "                    else if (grades >= 70 && grades <= 79)\n",
        "                    {\n",
        "                        Console.WriteLine(\"Your Grade is a C\");\n",
        "                        Console.WriteLine(\"Just Barely Made It!\");\n",
        "                        Console.WriteLine(\"Press any key to exit the program\");\n",
        "                        Console.ReadKey(true);\n",
        "\n",
        "                    }\n",
        "                    else if (grades >= 60 && grades <= 69)\n",
        "                    {\n",
        "                        Console.WriteLine(\"Your Grade is a D\");\n",
        "                        Console.WriteLine(\"Depending on the class you might have to talk to your advisor, sorry\");\n",
        "                        Console.WriteLine(\"Press any key to exit the program\");\n",
        "                        Console.ReadKey(true);\n",
        "\n",
        "                    }\n",
        "                    else if (grades <= 59)\n",
        "                    {\n",
        "                        Console.WriteLine(\"Your Grade is a F\");\n",
        "                        Console.WriteLine(\"Sorry you failed the class, Better luck next semester\");\n",
        "                        Console.WriteLine(\"Press any key to exit the program\");\n",
        "                        Console.ReadKey(true);\n",
        "\n",
        "                    }\n",
        "                    break;\n",
        "                }\n",
        "            }\n",
        "            catch (FormatException)\n",
        "            {\n",
        "                while (true)\n",
        "                {\n",
        "                    Console.WriteLine(\"Use an integer type value\");\n",
        "                    Console.WriteLine(\"----OR-----\");\n",
        "                    Console.WriteLine(\"Use a Decimal data type for the grade value\");\n",
        "                    Console.ReadLine();\n",
        "                    Console.ReadKey(true);\n",
        "                    break;\n",
        "                }// End of catch"
      ]
    }
  ]
}